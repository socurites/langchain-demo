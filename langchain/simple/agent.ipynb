{
 "cells": [
  {
   "cell_type": "markdown",
   "metadata": {},
   "source": [
    "# Build an Agent\n",
    "\n",
    "* References: https://python.langchain.com/docs/tutorials/agents/\n",
    "\n",
    "* Search Agent"
   ]
  },
  {
   "cell_type": "markdown",
   "metadata": {},
   "source": [
    "## Setup"
   ]
  },
  {
   "cell_type": "code",
   "execution_count": 2,
   "metadata": {},
   "outputs": [],
   "source": [
    "import os\n",
    "import getpass\n",
    "\n",
    "os.environ[\"LANGSMITH_TRACING\"] = \"true\"\n",
    "\n",
    "if not os.environ.get(\"OPENAI_API_KEY\"):\n",
    "    os.environ[\"OPENAI_API_KEY\"] = getpass.getpass(\"OpenAI API Key: \")\n",
    "if not os.environ.get(\"LANGSMITH_API_KEY\"):\n",
    "    os.environ[\"LANGSMITH_API_KEY\"] = getpass.getpass(\"LangSmith API Key: \")\n",
    "if not os.environ.get(\"TAVILY_API_KEY\"):\n",
    "    os.environ[\"TAVILY_API_KEY\"] = getpass.getpass(\"Tavily API Key: \")"
   ]
  },
  {
   "cell_type": "markdown",
   "metadata": {},
   "source": [
    "## Define Tools: Tavily search engine"
   ]
  },
  {
   "cell_type": "code",
   "execution_count": 6,
   "metadata": {},
   "outputs": [
    {
     "name": "stdout",
     "output_type": "stream",
     "text": [
      "[{'title': 'Weather in Seoul', 'url': 'https://www.weatherapi.com/', 'content': \"{'location': {'name': 'Seoul', 'region': '', 'country': 'South Korea', 'lat': 37.5664, 'lon': 126.9997, 'tz_id': 'Asia/Seoul', 'localtime_epoch': 1742281076, 'localtime': '2025-03-18 15:57'}, 'current': {'last_updated_epoch': 1742280300, 'last_updated': '2025-03-18 15:45', 'temp_c': 5.2, 'temp_f': 41.4, 'is_day': 1, 'condition': {'text': 'Partly cloudy', 'icon': '//cdn.weatherapi.com/weather/64x64/day/116.png', 'code': 1003}, 'wind_mph': 13.9, 'wind_kph': 22.3, 'wind_degree': 345, 'wind_dir': 'NNW', 'pressure_mb': 1015.0, 'pressure_in': 29.96, 'precip_mm': 0.08, 'precip_in': 0.0, 'humidity': 45, 'cloud': 75, 'feelslike_c': 1.1, 'feelslike_f': 33.9, 'windchill_c': 1.0, 'windchill_f': 33.8, 'heatindex_c': 5.2, 'heatindex_f': 41.3, 'dewpoint_c': -4.5, 'dewpoint_f': 23.9, 'vis_km': 10.0, 'vis_miles': 6.0, 'uv': 2.1, 'gust_mph': 17.5, 'gust_kph': 28.2}}\", 'score': 0.9006186}, {'title': 'Weather Seoul in March 2025: Temperature & Climate', 'url': 'https://en.climate-data.org/asia/south-korea/seoul/seoul-718563/t/march-3/', 'content': '| 16.3 °C\\n(61.4) °F\\n| 22 °C\\n(71.6) °F\\n| 26.3 °C\\n(79.4) °F\\n| 27.7 °C\\n(81.9) °F\\n| 28.4 °C\\n(83.2) °F\\n| 24.6 °C\\n(76.2) °F\\n| 18.5 °C\\n(65.3) °F\\n| 10.4 °C\\n(50.6) °F\\n| 2.8 °C\\n(37.1) °F\\n|\\n| Precipitation / Rainfall mm (in) | 21\\n(0)\\n| 28\\n(1)\\n| 41\\n(1)\\n| 73\\n(2)\\n| 99\\n(3)\\n| 144\\n(5)\\n| 319\\n(12)\\n| 249\\n(9)\\n| 131\\n(5)\\n| 55\\n(2)\\n| 48\\n(1)\\n| 25\\n(0)\\n|\\n| Humidity(%) | 58% | 58% | 61% | 65% | 69% | 73% | 83% | 81% | 75% | 70% | 69% | 60% |\\n| Rainy days (d) | 3 | 3 | 4 | 5 | 6 | 7 | 12 | 11 | 6 | 4 | 5 | 4 | [...] (61.7) °F\\n| 21.5 °C\\n(70.7) °F\\n| 24.2 °C\\n(75.6) °F\\n| 24.8 °C\\n(76.6) °F\\n| 20.3 °C\\n(68.5) °F\\n| 13.6 °C\\n(56.4) °F\\n| 5.8 °C\\n(42.4) °F\\n| -1.5 °C\\n(29.3) °F\\n|\\n| Min. Temperature °C (°F) | -7.7 °C\\n(18.1) °F\\n| -5 °C\\n(23.1) °F\\n| -0.5 °C\\n(31) °F\\n| 5.6 °C\\n(42.1) °F\\n| 11.6 °C\\n(52.9) °F\\n| 17.3 °C\\n(63.1) °F\\n| 21.4 °C\\n(70.5) °F\\n| 21.7 °C\\n(71.1) °F\\n| 16.3 °C\\n(61.4) °F\\n| 9 °C\\n(48.2) °F\\n| 1.6 °C\\n(34.9) °F\\n| -5.4 °C\\n(22.2) °F\\n|\\n| Max. Temperature °C (°F) | 1 °C\\n(33.8) °F\\n| 4.1 °C\\n(39.4) °F\\n| 9.8 °C\\n(49.7) °F [...] | 13. March | 3 °C | 38 °F | 9 °C | 48 °F | -2 °C | 29 °F | 0.5 mm | 0.0 inch. |\\n| 14. March | 4 °C | 39 °F | 9 °C | 48 °F | -1 °C | 30 °F | 1.4 mm | 0.1 inch. |\\n| 15. March | 4 °C | 39 °F | 9 °C | 49 °F | -1 °C | 30 °F | 1.2 mm | 0.0 inch. |\\n| 16. March | 4 °C | 39 °F | 10 °C | 50 °F | -1 °C | 30 °F | 1.1 mm | 0.0 inch. |\\n| 17. March | 5 °C | 41 °F | 10 °C | 50 °F | 0 °C | 32 °F | 2.4 mm | 0.1 inch. |\\n| 18. March | 5 °C | 41 °F | 11 °C | 51 °F | 0 °C | 33 °F | 4.3 mm | 0.2 inch. |', 'score': 0.8560056445}]\n"
     ]
    }
   ],
   "source": [
    "from langchain_community.tools.tavily_search import TavilySearchResults\n",
    "\n",
    "search = TavilySearchResults(max_results=2)\n",
    "search_results = search.invoke(\"What is the weather in Seoul?\")\n",
    "print(search_results)\n",
    "\n",
    "## Define Tools: Web search\n",
    "from langchain_community.tools.tavily_search import TavilySearchResults\n",
    "\n",
    "tools = [search]\n",
    "\n"
   ]
  },
  {
   "cell_type": "markdown",
   "metadata": {},
   "source": [
    "## Using Language Models"
   ]
  },
  {
   "cell_type": "code",
   "execution_count": 14,
   "metadata": {},
   "outputs": [
    {
     "name": "stdout",
     "output_type": "stream",
     "text": [
      "Hello! How can I assist you today?\n",
      "ContentString: Hello! How can I assist you today?\n",
      "ToolCalls: []\n",
      "ContentString: \n",
      "ToolCalls: [{'name': 'tavily_search_results_json', 'args': {'query': 'current weather in Seoul'}, 'id': 'call_Uy3Wh1RCzW6w9EtIgiEpCs2Q', 'type': 'tool_call'}]\n"
     ]
    }
   ],
   "source": [
    "from langchain.chat_models import init_chat_model\n",
    "\n",
    "model = init_chat_model(model=\"gpt-4o-mini\", model_provider=\"openai\")\n",
    "\n",
    "from langchain.schema import HumanMessage\n",
    "response = model.invoke([HumanMessage(content=\"Hi!\")])\n",
    "print(response.content)\n",
    "\n",
    "model_with_tools = model.bind_tools(tools)\n",
    "\n",
    "response = model_with_tools.invoke([HumanMessage(content=\"Hi\")])\n",
    "print(f\"ContentString: {response.content}\")\n",
    "print(f\"ToolCalls: {response.tool_calls}\")\n",
    "\n",
    "\n",
    "response = model_with_tools.invoke([HumanMessage(content=\"What is the weather in Seoul?\")])\n",
    "print(f\"ContentString: {response.content}\")\n",
    "print(f\"ToolCalls: {response.tool_calls}\")\n",
    "\n"
   ]
  },
  {
   "cell_type": "markdown",
   "metadata": {},
   "source": [
    "## Create the agent"
   ]
  },
  {
   "cell_type": "code",
   "execution_count": 16,
   "metadata": {},
   "outputs": [],
   "source": [
    "from langgraph.prebuilt import create_react_agent\n",
    "\n",
    "agent_executor = create_react_agent(model, tools)"
   ]
  },
  {
   "cell_type": "code",
   "execution_count": 20,
   "metadata": {},
   "outputs": [
    {
     "data": {
      "text/plain": [
       "[HumanMessage(content='What is the weather in Seoul?', additional_kwargs={}, response_metadata={}, id='0d18c0e0-988d-4acf-9cb1-a909f0ed008f'),\n",
       " AIMessage(content='', additional_kwargs={'tool_calls': [{'id': 'call_HnDTh6kMR5HYZZzPRDfYMvBS', 'function': {'arguments': '{\"query\":\"current weather in Seoul\"}', 'name': 'tavily_search_results_json'}, 'type': 'function'}], 'refusal': None}, response_metadata={'token_usage': {'completion_tokens': 22, 'prompt_tokens': 86, 'total_tokens': 108, 'completion_tokens_details': {'accepted_prediction_tokens': 0, 'audio_tokens': 0, 'reasoning_tokens': 0, 'rejected_prediction_tokens': 0}, 'prompt_tokens_details': {'audio_tokens': 0, 'cached_tokens': 0}}, 'model_name': 'gpt-4o-mini-2024-07-18', 'system_fingerprint': 'fp_06737a9306', 'finish_reason': 'tool_calls', 'logprobs': None}, id='run-5bb146e3-b8de-4e13-b931-047b67d9cbc3-0', tool_calls=[{'name': 'tavily_search_results_json', 'args': {'query': 'current weather in Seoul'}, 'id': 'call_HnDTh6kMR5HYZZzPRDfYMvBS', 'type': 'tool_call'}], usage_metadata={'input_tokens': 86, 'output_tokens': 22, 'total_tokens': 108, 'input_token_details': {'audio': 0, 'cache_read': 0}, 'output_token_details': {'audio': 0, 'reasoning': 0}}),\n",
       " ToolMessage(content='[{\"title\": \"Weather in Seoul\", \"url\": \"https://www.weatherapi.com/\", \"content\": \"{\\'location\\': {\\'name\\': \\'Seoul\\', \\'region\\': \\'\\', \\'country\\': \\'South Korea\\', \\'lat\\': 37.5664, \\'lon\\': 126.9997, \\'tz_id\\': \\'Asia/Seoul\\', \\'localtime_epoch\\': 1742281242, \\'localtime\\': \\'2025-03-18 16:00\\'}, \\'current\\': {\\'last_updated_epoch\\': 1742281200, \\'last_updated\\': \\'2025-03-18 16:00\\', \\'temp_c\\': 5.2, \\'temp_f\\': 41.4, \\'is_day\\': 1, \\'condition\\': {\\'text\\': \\'Partly cloudy\\', \\'icon\\': \\'//cdn.weatherapi.com/weather/64x64/day/116.png\\', \\'code\\': 1003}, \\'wind_mph\\': 13.2, \\'wind_kph\\': 21.2, \\'wind_degree\\': 337, \\'wind_dir\\': \\'NNW\\', \\'pressure_mb\\': 1015.0, \\'pressure_in\\': 29.96, \\'precip_mm\\': 0.05, \\'precip_in\\': 0.0, \\'humidity\\': 45, \\'cloud\\': 75, \\'feelslike_c\\': 1.2, \\'feelslike_f\\': 34.1, \\'windchill_c\\': 1.2, \\'windchill_f\\': 34.2, \\'heatindex_c\\': 5.2, \\'heatindex_f\\': 41.4, \\'dewpoint_c\\': -5.3, \\'dewpoint_f\\': 22.5, \\'vis_km\\': 10.0, \\'vis_miles\\': 6.0, \\'uv\\': 1.2, \\'gust_mph\\': 15.2, \\'gust_kph\\': 24.4}}\", \"score\": 0.8744017}, {\"title\": \"Weather Seoul in March 2025: Temperature & Climate\", \"url\": \"https://en.climate-data.org/asia/south-korea/seoul/seoul-718563/t/march-3/\", \"content\": \"| 16.3 °C\\\\n(61.4) °F\\\\n| 22 °C\\\\n(71.6) °F\\\\n| 26.3 °C\\\\n(79.4) °F\\\\n| 27.7 °C\\\\n(81.9) °F\\\\n| 28.4 °C\\\\n(83.2) °F\\\\n| 24.6 °C\\\\n(76.2) °F\\\\n| 18.5 °C\\\\n(65.3) °F\\\\n| 10.4 °C\\\\n(50.6) °F\\\\n| 2.8 °C\\\\n(37.1) °F\\\\n|\\\\n| Precipitation / Rainfall mm (in) | 21\\\\n(0)\\\\n| 28\\\\n(1)\\\\n| 41\\\\n(1)\\\\n| 73\\\\n(2)\\\\n| 99\\\\n(3)\\\\n| 144\\\\n(5)\\\\n| 319\\\\n(12)\\\\n| 249\\\\n(9)\\\\n| 131\\\\n(5)\\\\n| 55\\\\n(2)\\\\n| 48\\\\n(1)\\\\n| 25\\\\n(0)\\\\n|\\\\n| Humidity(%) | 58% | 58% | 61% | 65% | 69% | 73% | 83% | 81% | 75% | 70% | 69% | 60% |\\\\n| Rainy days (d) | 3 | 3 | 4 | 5 | 6 | 7 | 12 | 11 | 6 | 4 | 5 | 4 | [...] (61.7) °F\\\\n| 21.5 °C\\\\n(70.7) °F\\\\n| 24.2 °C\\\\n(75.6) °F\\\\n| 24.8 °C\\\\n(76.6) °F\\\\n| 20.3 °C\\\\n(68.5) °F\\\\n| 13.6 °C\\\\n(56.4) °F\\\\n| 5.8 °C\\\\n(42.4) °F\\\\n| -1.5 °C\\\\n(29.3) °F\\\\n|\\\\n| Min. Temperature °C (°F) | -7.7 °C\\\\n(18.1) °F\\\\n| -5 °C\\\\n(23.1) °F\\\\n| -0.5 °C\\\\n(31) °F\\\\n| 5.6 °C\\\\n(42.1) °F\\\\n| 11.6 °C\\\\n(52.9) °F\\\\n| 17.3 °C\\\\n(63.1) °F\\\\n| 21.4 °C\\\\n(70.5) °F\\\\n| 21.7 °C\\\\n(71.1) °F\\\\n| 16.3 °C\\\\n(61.4) °F\\\\n| 9 °C\\\\n(48.2) °F\\\\n| 1.6 °C\\\\n(34.9) °F\\\\n| -5.4 °C\\\\n(22.2) °F\\\\n|\\\\n| Max. Temperature °C (°F) | 1 °C\\\\n(33.8) °F\\\\n| 4.1 °C\\\\n(39.4) °F\\\\n| 9.8 °C\\\\n(49.7) °F [...] | 13. March | 3 °C | 38 °F | 9 °C | 48 °F | -2 °C | 29 °F | 0.5 mm | 0.0 inch. |\\\\n| 14. March | 4 °C | 39 °F | 9 °C | 48 °F | -1 °C | 30 °F | 1.4 mm | 0.1 inch. |\\\\n| 15. March | 4 °C | 39 °F | 9 °C | 49 °F | -1 °C | 30 °F | 1.2 mm | 0.0 inch. |\\\\n| 16. March | 4 °C | 39 °F | 10 °C | 50 °F | -1 °C | 30 °F | 1.1 mm | 0.0 inch. |\\\\n| 17. March | 5 °C | 41 °F | 10 °C | 50 °F | 0 °C | 32 °F | 2.4 mm | 0.1 inch. |\\\\n| 18. March | 5 °C | 41 °F | 11 °C | 51 °F | 0 °C | 33 °F | 4.3 mm | 0.2 inch. |\", \"score\": 0.8305227992509363}]', name='tavily_search_results_json', id='0f8ccd08-675e-4d44-86b5-6da96d796714', tool_call_id='call_HnDTh6kMR5HYZZzPRDfYMvBS', artifact={'query': 'current weather in Seoul', 'follow_up_questions': None, 'answer': None, 'images': [], 'results': [{'title': 'Weather in Seoul', 'url': 'https://www.weatherapi.com/', 'content': \"{'location': {'name': 'Seoul', 'region': '', 'country': 'South Korea', 'lat': 37.5664, 'lon': 126.9997, 'tz_id': 'Asia/Seoul', 'localtime_epoch': 1742281242, 'localtime': '2025-03-18 16:00'}, 'current': {'last_updated_epoch': 1742281200, 'last_updated': '2025-03-18 16:00', 'temp_c': 5.2, 'temp_f': 41.4, 'is_day': 1, 'condition': {'text': 'Partly cloudy', 'icon': '//cdn.weatherapi.com/weather/64x64/day/116.png', 'code': 1003}, 'wind_mph': 13.2, 'wind_kph': 21.2, 'wind_degree': 337, 'wind_dir': 'NNW', 'pressure_mb': 1015.0, 'pressure_in': 29.96, 'precip_mm': 0.05, 'precip_in': 0.0, 'humidity': 45, 'cloud': 75, 'feelslike_c': 1.2, 'feelslike_f': 34.1, 'windchill_c': 1.2, 'windchill_f': 34.2, 'heatindex_c': 5.2, 'heatindex_f': 41.4, 'dewpoint_c': -5.3, 'dewpoint_f': 22.5, 'vis_km': 10.0, 'vis_miles': 6.0, 'uv': 1.2, 'gust_mph': 15.2, 'gust_kph': 24.4}}\", 'score': 0.8744017, 'raw_content': None}, {'url': 'https://en.climate-data.org/asia/south-korea/seoul/seoul-718563/t/march-3/', 'title': 'Weather Seoul in March 2025: Temperature & Climate', 'content': '| 16.3 °C\\n(61.4) °F\\n| 22 °C\\n(71.6) °F\\n| 26.3 °C\\n(79.4) °F\\n| 27.7 °C\\n(81.9) °F\\n| 28.4 °C\\n(83.2) °F\\n| 24.6 °C\\n(76.2) °F\\n| 18.5 °C\\n(65.3) °F\\n| 10.4 °C\\n(50.6) °F\\n| 2.8 °C\\n(37.1) °F\\n|\\n| Precipitation / Rainfall mm (in) | 21\\n(0)\\n| 28\\n(1)\\n| 41\\n(1)\\n| 73\\n(2)\\n| 99\\n(3)\\n| 144\\n(5)\\n| 319\\n(12)\\n| 249\\n(9)\\n| 131\\n(5)\\n| 55\\n(2)\\n| 48\\n(1)\\n| 25\\n(0)\\n|\\n| Humidity(%) | 58% | 58% | 61% | 65% | 69% | 73% | 83% | 81% | 75% | 70% | 69% | 60% |\\n| Rainy days (d) | 3 | 3 | 4 | 5 | 6 | 7 | 12 | 11 | 6 | 4 | 5 | 4 | [...] (61.7) °F\\n| 21.5 °C\\n(70.7) °F\\n| 24.2 °C\\n(75.6) °F\\n| 24.8 °C\\n(76.6) °F\\n| 20.3 °C\\n(68.5) °F\\n| 13.6 °C\\n(56.4) °F\\n| 5.8 °C\\n(42.4) °F\\n| -1.5 °C\\n(29.3) °F\\n|\\n| Min. Temperature °C (°F) | -7.7 °C\\n(18.1) °F\\n| -5 °C\\n(23.1) °F\\n| -0.5 °C\\n(31) °F\\n| 5.6 °C\\n(42.1) °F\\n| 11.6 °C\\n(52.9) °F\\n| 17.3 °C\\n(63.1) °F\\n| 21.4 °C\\n(70.5) °F\\n| 21.7 °C\\n(71.1) °F\\n| 16.3 °C\\n(61.4) °F\\n| 9 °C\\n(48.2) °F\\n| 1.6 °C\\n(34.9) °F\\n| -5.4 °C\\n(22.2) °F\\n|\\n| Max. Temperature °C (°F) | 1 °C\\n(33.8) °F\\n| 4.1 °C\\n(39.4) °F\\n| 9.8 °C\\n(49.7) °F [...] | 13. March | 3 °C | 38 °F | 9 °C | 48 °F | -2 °C | 29 °F | 0.5 mm | 0.0 inch. |\\n| 14. March | 4 °C | 39 °F | 9 °C | 48 °F | -1 °C | 30 °F | 1.4 mm | 0.1 inch. |\\n| 15. March | 4 °C | 39 °F | 9 °C | 49 °F | -1 °C | 30 °F | 1.2 mm | 0.0 inch. |\\n| 16. March | 4 °C | 39 °F | 10 °C | 50 °F | -1 °C | 30 °F | 1.1 mm | 0.0 inch. |\\n| 17. March | 5 °C | 41 °F | 10 °C | 50 °F | 0 °C | 32 °F | 2.4 mm | 0.1 inch. |\\n| 18. March | 5 °C | 41 °F | 11 °C | 51 °F | 0 °C | 33 °F | 4.3 mm | 0.2 inch. |', 'score': 0.8305227992509363, 'raw_content': None}], 'response_time': 2.64}),\n",
       " AIMessage(content='The current weather in Seoul is as follows:\\n\\n- **Temperature**: 5.2°C (41.4°F)\\n- **Condition**: Partly cloudy\\n- **Wind Speed**: 13.2 mph (21.2 kph), coming from the NNW\\n- **Humidity**: 45%\\n- **Visibility**: 10 km\\n- **Last Updated**: A few moments ago\\n\\nFor more details, you can check the full report [here](https://www.weatherapi.com/).', additional_kwargs={'refusal': None}, response_metadata={'token_usage': {'completion_tokens': 109, 'prompt_tokens': 1630, 'total_tokens': 1739, 'completion_tokens_details': {'accepted_prediction_tokens': 0, 'audio_tokens': 0, 'reasoning_tokens': 0, 'rejected_prediction_tokens': 0}, 'prompt_tokens_details': {'audio_tokens': 0, 'cached_tokens': 0}}, 'model_name': 'gpt-4o-mini-2024-07-18', 'system_fingerprint': 'fp_06737a9306', 'finish_reason': 'stop', 'logprobs': None}, id='run-308bdc69-ea9e-4695-9576-5b529e82b238-0', usage_metadata={'input_tokens': 1630, 'output_tokens': 109, 'total_tokens': 1739, 'input_token_details': {'audio': 0, 'cache_read': 0}, 'output_token_details': {'audio': 0, 'reasoning': 0}})]"
      ]
     },
     "execution_count": 20,
     "metadata": {},
     "output_type": "execute_result"
    }
   ],
   "source": [
    "response = agent_executor.invoke({\"messages\": [HumanMessage(content=\"Hi!\")]})\n",
    "response[\"messages\"]\n",
    "\n",
    "response = agent_executor.invoke({\"messages\": [HumanMessage(content=\"What is the weather in Seoul?\")]})\n",
    "response[\"messages\"]\n"
   ]
  },
  {
   "cell_type": "markdown",
   "metadata": {},
   "source": [
    "## Streaming Messages"
   ]
  },
  {
   "cell_type": "code",
   "execution_count": 21,
   "metadata": {},
   "outputs": [
    {
     "name": "stdout",
     "output_type": "stream",
     "text": [
      "================================\u001b[1m Human Message \u001b[0m=================================\n",
      "\n",
      "What is the weather in Seoul?\n",
      "==================================\u001b[1m Ai Message \u001b[0m==================================\n",
      "Tool Calls:\n",
      "  tavily_search_results_json (call_NOOhF1yvJdUDesotPIj6hbLp)\n",
      " Call ID: call_NOOhF1yvJdUDesotPIj6hbLp\n",
      "  Args:\n",
      "    query: current weather in Seoul\n",
      "=================================\u001b[1m Tool Message \u001b[0m=================================\n",
      "Name: tavily_search_results_json\n",
      "\n",
      "[{\"title\": \"Weather in Seoul\", \"url\": \"https://www.weatherapi.com/\", \"content\": \"{'location': {'name': 'Seoul', 'region': '', 'country': 'South Korea', 'lat': 37.5664, 'lon': 126.9997, 'tz_id': 'Asia/Seoul', 'localtime_epoch': 1742281242, 'localtime': '2025-03-18 16:00'}, 'current': {'last_updated_epoch': 1742281200, 'last_updated': '2025-03-18 16:00', 'temp_c': 5.2, 'temp_f': 41.4, 'is_day': 1, 'condition': {'text': 'Partly cloudy', 'icon': '//cdn.weatherapi.com/weather/64x64/day/116.png', 'code': 1003}, 'wind_mph': 13.2, 'wind_kph': 21.2, 'wind_degree': 337, 'wind_dir': 'NNW', 'pressure_mb': 1015.0, 'pressure_in': 29.96, 'precip_mm': 0.05, 'precip_in': 0.0, 'humidity': 45, 'cloud': 75, 'feelslike_c': 1.2, 'feelslike_f': 34.1, 'windchill_c': 1.2, 'windchill_f': 34.2, 'heatindex_c': 5.2, 'heatindex_f': 41.4, 'dewpoint_c': -5.3, 'dewpoint_f': 22.5, 'vis_km': 10.0, 'vis_miles': 6.0, 'uv': 1.2, 'gust_mph': 15.2, 'gust_kph': 24.4}}\", \"score\": 0.8744017}, {\"title\": \"Weather Seoul in March 2025: Temperature & Climate\", \"url\": \"https://en.climate-data.org/asia/south-korea/seoul/seoul-718563/t/march-3/\", \"content\": \"| 16.3 °C\\n(61.4) °F\\n| 22 °C\\n(71.6) °F\\n| 26.3 °C\\n(79.4) °F\\n| 27.7 °C\\n(81.9) °F\\n| 28.4 °C\\n(83.2) °F\\n| 24.6 °C\\n(76.2) °F\\n| 18.5 °C\\n(65.3) °F\\n| 10.4 °C\\n(50.6) °F\\n| 2.8 °C\\n(37.1) °F\\n|\\n| Precipitation / Rainfall mm (in) | 21\\n(0)\\n| 28\\n(1)\\n| 41\\n(1)\\n| 73\\n(2)\\n| 99\\n(3)\\n| 144\\n(5)\\n| 319\\n(12)\\n| 249\\n(9)\\n| 131\\n(5)\\n| 55\\n(2)\\n| 48\\n(1)\\n| 25\\n(0)\\n|\\n| Humidity(%) | 58% | 58% | 61% | 65% | 69% | 73% | 83% | 81% | 75% | 70% | 69% | 60% |\\n| Rainy days (d) | 3 | 3 | 4 | 5 | 6 | 7 | 12 | 11 | 6 | 4 | 5 | 4 | [...] (61.7) °F\\n| 21.5 °C\\n(70.7) °F\\n| 24.2 °C\\n(75.6) °F\\n| 24.8 °C\\n(76.6) °F\\n| 20.3 °C\\n(68.5) °F\\n| 13.6 °C\\n(56.4) °F\\n| 5.8 °C\\n(42.4) °F\\n| -1.5 °C\\n(29.3) °F\\n|\\n| Min. Temperature °C (°F) | -7.7 °C\\n(18.1) °F\\n| -5 °C\\n(23.1) °F\\n| -0.5 °C\\n(31) °F\\n| 5.6 °C\\n(42.1) °F\\n| 11.6 °C\\n(52.9) °F\\n| 17.3 °C\\n(63.1) °F\\n| 21.4 °C\\n(70.5) °F\\n| 21.7 °C\\n(71.1) °F\\n| 16.3 °C\\n(61.4) °F\\n| 9 °C\\n(48.2) °F\\n| 1.6 °C\\n(34.9) °F\\n| -5.4 °C\\n(22.2) °F\\n|\\n| Max. Temperature °C (°F) | 1 °C\\n(33.8) °F\\n| 4.1 °C\\n(39.4) °F\\n| 9.8 °C\\n(49.7) °F [...] | 13. March | 3 °C | 38 °F | 9 °C | 48 °F | -2 °C | 29 °F | 0.5 mm | 0.0 inch. |\\n| 14. March | 4 °C | 39 °F | 9 °C | 48 °F | -1 °C | 30 °F | 1.4 mm | 0.1 inch. |\\n| 15. March | 4 °C | 39 °F | 9 °C | 49 °F | -1 °C | 30 °F | 1.2 mm | 0.0 inch. |\\n| 16. March | 4 °C | 39 °F | 10 °C | 50 °F | -1 °C | 30 °F | 1.1 mm | 0.0 inch. |\\n| 17. March | 5 °C | 41 °F | 10 °C | 50 °F | 0 °C | 32 °F | 2.4 mm | 0.1 inch. |\\n| 18. March | 5 °C | 41 °F | 11 °C | 51 °F | 0 °C | 33 °F | 4.3 mm | 0.2 inch. |\", \"score\": 0.8305227992509363}]\n",
      "==================================\u001b[1m Ai Message \u001b[0m==================================\n",
      "\n",
      "The current weather in Seoul is as follows:\n",
      "\n",
      "- **Temperature**: 5.2°C (41.4°F)\n",
      "- **Condition**: Partly cloudy\n",
      "- **Wind Speed**: 13.2 mph (21.2 kph) coming from the northwest (NNW)\n",
      "- **Humidity**: 45%\n",
      "- **Pressure**: 1015.0 mb\n",
      "- **Visibility**: 10 km\n",
      "- **Feels Like**: 1.2°C (34.1°F)\n",
      "\n",
      "For more details, you can visit [Weather API](https://www.weatherapi.com/).\n"
     ]
    }
   ],
   "source": [
    "for step in agent_executor.stream(\n",
    "    {\"messages\": [HumanMessage(content=\"What is the weather in Seoul?\")]},\n",
    "    stream_mode=\"values\",\n",
    "):\n",
    "    step[\"messages\"][-1].pretty_print()"
   ]
  },
  {
   "cell_type": "markdown",
   "metadata": {},
   "source": [
    "## Adding in memory"
   ]
  },
  {
   "cell_type": "code",
   "execution_count": 27,
   "metadata": {},
   "outputs": [
    {
     "data": {
      "text/plain": [
       "{'messages': [HumanMessage(content='What is the weather in Seoul?', additional_kwargs={}, response_metadata={}, id='1d59b220-5e66-4021-8be8-12275f990c21'),\n",
       "  AIMessage(content='', additional_kwargs={'tool_calls': [{'id': 'call_e8xVYyySv7ghnIeUYVLC29c8', 'function': {'arguments': '{\"query\":\"current weather in Seoul\"}', 'name': 'tavily_search_results_json'}, 'type': 'function'}], 'refusal': None}, response_metadata={'token_usage': {'completion_tokens': 22, 'prompt_tokens': 86, 'total_tokens': 108, 'completion_tokens_details': {'accepted_prediction_tokens': 0, 'audio_tokens': 0, 'reasoning_tokens': 0, 'rejected_prediction_tokens': 0}, 'prompt_tokens_details': {'audio_tokens': 0, 'cached_tokens': 0}}, 'model_name': 'gpt-4o-mini-2024-07-18', 'system_fingerprint': 'fp_06737a9306', 'finish_reason': 'tool_calls', 'logprobs': None}, id='run-307a3d5e-b42a-438e-be40-92b468b1379f-0', tool_calls=[{'name': 'tavily_search_results_json', 'args': {'query': 'current weather in Seoul'}, 'id': 'call_e8xVYyySv7ghnIeUYVLC29c8', 'type': 'tool_call'}], usage_metadata={'input_tokens': 86, 'output_tokens': 22, 'total_tokens': 108, 'input_token_details': {'audio': 0, 'cache_read': 0}, 'output_token_details': {'audio': 0, 'reasoning': 0}}),\n",
       "  ToolMessage(content='[{\"title\": \"Weather in Seoul\", \"url\": \"https://www.weatherapi.com/\", \"content\": \"{\\'location\\': {\\'name\\': \\'Seoul\\', \\'region\\': \\'\\', \\'country\\': \\'South Korea\\', \\'lat\\': 37.5664, \\'lon\\': 126.9997, \\'tz_id\\': \\'Asia/Seoul\\', \\'localtime_epoch\\': 1742281242, \\'localtime\\': \\'2025-03-18 16:00\\'}, \\'current\\': {\\'last_updated_epoch\\': 1742281200, \\'last_updated\\': \\'2025-03-18 16:00\\', \\'temp_c\\': 5.2, \\'temp_f\\': 41.4, \\'is_day\\': 1, \\'condition\\': {\\'text\\': \\'Partly cloudy\\', \\'icon\\': \\'//cdn.weatherapi.com/weather/64x64/day/116.png\\', \\'code\\': 1003}, \\'wind_mph\\': 13.2, \\'wind_kph\\': 21.2, \\'wind_degree\\': 337, \\'wind_dir\\': \\'NNW\\', \\'pressure_mb\\': 1015.0, \\'pressure_in\\': 29.96, \\'precip_mm\\': 0.05, \\'precip_in\\': 0.0, \\'humidity\\': 45, \\'cloud\\': 75, \\'feelslike_c\\': 1.2, \\'feelslike_f\\': 34.1, \\'windchill_c\\': 1.2, \\'windchill_f\\': 34.2, \\'heatindex_c\\': 5.2, \\'heatindex_f\\': 41.4, \\'dewpoint_c\\': -5.3, \\'dewpoint_f\\': 22.5, \\'vis_km\\': 10.0, \\'vis_miles\\': 6.0, \\'uv\\': 1.2, \\'gust_mph\\': 15.2, \\'gust_kph\\': 24.4}}\", \"score\": 0.8744017}, {\"title\": \"Weather Seoul in March 2025: Temperature & Climate\", \"url\": \"https://en.climate-data.org/asia/south-korea/seoul/seoul-718563/t/march-3/\", \"content\": \"| 16.3 °C\\\\n(61.4) °F\\\\n| 22 °C\\\\n(71.6) °F\\\\n| 26.3 °C\\\\n(79.4) °F\\\\n| 27.7 °C\\\\n(81.9) °F\\\\n| 28.4 °C\\\\n(83.2) °F\\\\n| 24.6 °C\\\\n(76.2) °F\\\\n| 18.5 °C\\\\n(65.3) °F\\\\n| 10.4 °C\\\\n(50.6) °F\\\\n| 2.8 °C\\\\n(37.1) °F\\\\n|\\\\n| Precipitation / Rainfall mm (in) | 21\\\\n(0)\\\\n| 28\\\\n(1)\\\\n| 41\\\\n(1)\\\\n| 73\\\\n(2)\\\\n| 99\\\\n(3)\\\\n| 144\\\\n(5)\\\\n| 319\\\\n(12)\\\\n| 249\\\\n(9)\\\\n| 131\\\\n(5)\\\\n| 55\\\\n(2)\\\\n| 48\\\\n(1)\\\\n| 25\\\\n(0)\\\\n|\\\\n| Humidity(%) | 58% | 58% | 61% | 65% | 69% | 73% | 83% | 81% | 75% | 70% | 69% | 60% |\\\\n| Rainy days (d) | 3 | 3 | 4 | 5 | 6 | 7 | 12 | 11 | 6 | 4 | 5 | 4 | [...] (61.7) °F\\\\n| 21.5 °C\\\\n(70.7) °F\\\\n| 24.2 °C\\\\n(75.6) °F\\\\n| 24.8 °C\\\\n(76.6) °F\\\\n| 20.3 °C\\\\n(68.5) °F\\\\n| 13.6 °C\\\\n(56.4) °F\\\\n| 5.8 °C\\\\n(42.4) °F\\\\n| -1.5 °C\\\\n(29.3) °F\\\\n|\\\\n| Min. Temperature °C (°F) | -7.7 °C\\\\n(18.1) °F\\\\n| -5 °C\\\\n(23.1) °F\\\\n| -0.5 °C\\\\n(31) °F\\\\n| 5.6 °C\\\\n(42.1) °F\\\\n| 11.6 °C\\\\n(52.9) °F\\\\n| 17.3 °C\\\\n(63.1) °F\\\\n| 21.4 °C\\\\n(70.5) °F\\\\n| 21.7 °C\\\\n(71.1) °F\\\\n| 16.3 °C\\\\n(61.4) °F\\\\n| 9 °C\\\\n(48.2) °F\\\\n| 1.6 °C\\\\n(34.9) °F\\\\n| -5.4 °C\\\\n(22.2) °F\\\\n|\\\\n| Max. Temperature °C (°F) | 1 °C\\\\n(33.8) °F\\\\n| 4.1 °C\\\\n(39.4) °F\\\\n| 9.8 °C\\\\n(49.7) °F [...] | 13. March | 3 °C | 38 °F | 9 °C | 48 °F | -2 °C | 29 °F | 0.5 mm | 0.0 inch. |\\\\n| 14. March | 4 °C | 39 °F | 9 °C | 48 °F | -1 °C | 30 °F | 1.4 mm | 0.1 inch. |\\\\n| 15. March | 4 °C | 39 °F | 9 °C | 49 °F | -1 °C | 30 °F | 1.2 mm | 0.0 inch. |\\\\n| 16. March | 4 °C | 39 °F | 10 °C | 50 °F | -1 °C | 30 °F | 1.1 mm | 0.0 inch. |\\\\n| 17. March | 5 °C | 41 °F | 10 °C | 50 °F | 0 °C | 32 °F | 2.4 mm | 0.1 inch. |\\\\n| 18. March | 5 °C | 41 °F | 11 °C | 51 °F | 0 °C | 33 °F | 4.3 mm | 0.2 inch. |\", \"score\": 0.8305227992509363}]', name='tavily_search_results_json', id='1d4beff9-de6f-4182-bed8-bcb782a6ef5f', tool_call_id='call_e8xVYyySv7ghnIeUYVLC29c8', artifact={'query': 'current weather in Seoul', 'follow_up_questions': None, 'answer': None, 'images': [], 'results': [{'title': 'Weather in Seoul', 'url': 'https://www.weatherapi.com/', 'content': \"{'location': {'name': 'Seoul', 'region': '', 'country': 'South Korea', 'lat': 37.5664, 'lon': 126.9997, 'tz_id': 'Asia/Seoul', 'localtime_epoch': 1742281242, 'localtime': '2025-03-18 16:00'}, 'current': {'last_updated_epoch': 1742281200, 'last_updated': '2025-03-18 16:00', 'temp_c': 5.2, 'temp_f': 41.4, 'is_day': 1, 'condition': {'text': 'Partly cloudy', 'icon': '//cdn.weatherapi.com/weather/64x64/day/116.png', 'code': 1003}, 'wind_mph': 13.2, 'wind_kph': 21.2, 'wind_degree': 337, 'wind_dir': 'NNW', 'pressure_mb': 1015.0, 'pressure_in': 29.96, 'precip_mm': 0.05, 'precip_in': 0.0, 'humidity': 45, 'cloud': 75, 'feelslike_c': 1.2, 'feelslike_f': 34.1, 'windchill_c': 1.2, 'windchill_f': 34.2, 'heatindex_c': 5.2, 'heatindex_f': 41.4, 'dewpoint_c': -5.3, 'dewpoint_f': 22.5, 'vis_km': 10.0, 'vis_miles': 6.0, 'uv': 1.2, 'gust_mph': 15.2, 'gust_kph': 24.4}}\", 'score': 0.8744017, 'raw_content': None}, {'url': 'https://en.climate-data.org/asia/south-korea/seoul/seoul-718563/t/march-3/', 'title': 'Weather Seoul in March 2025: Temperature & Climate', 'content': '| 16.3 °C\\n(61.4) °F\\n| 22 °C\\n(71.6) °F\\n| 26.3 °C\\n(79.4) °F\\n| 27.7 °C\\n(81.9) °F\\n| 28.4 °C\\n(83.2) °F\\n| 24.6 °C\\n(76.2) °F\\n| 18.5 °C\\n(65.3) °F\\n| 10.4 °C\\n(50.6) °F\\n| 2.8 °C\\n(37.1) °F\\n|\\n| Precipitation / Rainfall mm (in) | 21\\n(0)\\n| 28\\n(1)\\n| 41\\n(1)\\n| 73\\n(2)\\n| 99\\n(3)\\n| 144\\n(5)\\n| 319\\n(12)\\n| 249\\n(9)\\n| 131\\n(5)\\n| 55\\n(2)\\n| 48\\n(1)\\n| 25\\n(0)\\n|\\n| Humidity(%) | 58% | 58% | 61% | 65% | 69% | 73% | 83% | 81% | 75% | 70% | 69% | 60% |\\n| Rainy days (d) | 3 | 3 | 4 | 5 | 6 | 7 | 12 | 11 | 6 | 4 | 5 | 4 | [...] (61.7) °F\\n| 21.5 °C\\n(70.7) °F\\n| 24.2 °C\\n(75.6) °F\\n| 24.8 °C\\n(76.6) °F\\n| 20.3 °C\\n(68.5) °F\\n| 13.6 °C\\n(56.4) °F\\n| 5.8 °C\\n(42.4) °F\\n| -1.5 °C\\n(29.3) °F\\n|\\n| Min. Temperature °C (°F) | -7.7 °C\\n(18.1) °F\\n| -5 °C\\n(23.1) °F\\n| -0.5 °C\\n(31) °F\\n| 5.6 °C\\n(42.1) °F\\n| 11.6 °C\\n(52.9) °F\\n| 17.3 °C\\n(63.1) °F\\n| 21.4 °C\\n(70.5) °F\\n| 21.7 °C\\n(71.1) °F\\n| 16.3 °C\\n(61.4) °F\\n| 9 °C\\n(48.2) °F\\n| 1.6 °C\\n(34.9) °F\\n| -5.4 °C\\n(22.2) °F\\n|\\n| Max. Temperature °C (°F) | 1 °C\\n(33.8) °F\\n| 4.1 °C\\n(39.4) °F\\n| 9.8 °C\\n(49.7) °F [...] | 13. March | 3 °C | 38 °F | 9 °C | 48 °F | -2 °C | 29 °F | 0.5 mm | 0.0 inch. |\\n| 14. March | 4 °C | 39 °F | 9 °C | 48 °F | -1 °C | 30 °F | 1.4 mm | 0.1 inch. |\\n| 15. March | 4 °C | 39 °F | 9 °C | 49 °F | -1 °C | 30 °F | 1.2 mm | 0.0 inch. |\\n| 16. March | 4 °C | 39 °F | 10 °C | 50 °F | -1 °C | 30 °F | 1.1 mm | 0.0 inch. |\\n| 17. March | 5 °C | 41 °F | 10 °C | 50 °F | 0 °C | 32 °F | 2.4 mm | 0.1 inch. |\\n| 18. March | 5 °C | 41 °F | 11 °C | 51 °F | 0 °C | 33 °F | 4.3 mm | 0.2 inch. |', 'score': 0.8305227992509363, 'raw_content': None}], 'response_time': 2.01}),\n",
       "  AIMessage(content='The current weather in Seoul is as follows:\\n\\n- **Temperature:** 5.2°C (41.4°F)\\n- **Condition:** Partly cloudy\\n- **Wind:** 13.2 mph (21.2 kph) from the NNW\\n- **Humidity:** 45%\\n- **Pressure:** 1015 mb\\n- **Visibility:** 10 km\\n- **Feels like:** 1.2°C (34.1°F)\\n\\nFor more details, you can check the [full weather report here](https://www.weatherapi.com/).', additional_kwargs={'refusal': None}, response_metadata={'token_usage': {'completion_tokens': 117, 'prompt_tokens': 1630, 'total_tokens': 1747, 'completion_tokens_details': {'accepted_prediction_tokens': 0, 'audio_tokens': 0, 'reasoning_tokens': 0, 'rejected_prediction_tokens': 0}, 'prompt_tokens_details': {'audio_tokens': 0, 'cached_tokens': 1536}}, 'model_name': 'gpt-4o-mini-2024-07-18', 'system_fingerprint': 'fp_06737a9306', 'finish_reason': 'stop', 'logprobs': None}, id='run-481577eb-f2e7-4db4-a875-6615291ef83c-0', usage_metadata={'input_tokens': 1630, 'output_tokens': 117, 'total_tokens': 1747, 'input_token_details': {'audio': 0, 'cache_read': 1536}, 'output_token_details': {'audio': 0, 'reasoning': 0}})]}"
      ]
     },
     "execution_count": 27,
     "metadata": {},
     "output_type": "execute_result"
    }
   ],
   "source": [
    "from langgraph.checkpoint.memory import MemorySaver\n",
    "\n",
    "memory = MemorySaver()\n",
    "\n",
    "agent_executor = create_react_agent(model, tools, checkpointer=memory)\n",
    "config = {\"configurable\": {\"thread_id\": \"abc123\"}}\n",
    "\n",
    "agent_executor.invoke({\"messages\": [HumanMessage(content=\"What is the weather in Seoul?\")]}, config=config)"
   ]
  },
  {
   "cell_type": "code",
   "execution_count": 29,
   "metadata": {},
   "outputs": [
    {
     "name": "stdout",
     "output_type": "stream",
     "text": [
      "{'agent': {'messages': [AIMessage(content='', additional_kwargs={'tool_calls': [{'id': 'call_max13UCq6ttTp22O4rKuijTs', 'function': {'arguments': '{\"query\":\"current weather in Seoul\"}', 'name': 'tavily_search_results_json'}, 'type': 'function'}], 'refusal': None}, response_metadata={'token_usage': {'completion_tokens': 22, 'prompt_tokens': 3432, 'total_tokens': 3454, 'completion_tokens_details': {'accepted_prediction_tokens': 0, 'audio_tokens': 0, 'reasoning_tokens': 0, 'rejected_prediction_tokens': 0}, 'prompt_tokens_details': {'audio_tokens': 0, 'cached_tokens': 3328}}, 'model_name': 'gpt-4o-mini-2024-07-18', 'system_fingerprint': 'fp_06737a9306', 'finish_reason': 'tool_calls', 'logprobs': None}, id='run-d89980f8-4015-42c8-88e0-ba6a1e311e6b-0', tool_calls=[{'name': 'tavily_search_results_json', 'args': {'query': 'current weather in Seoul'}, 'id': 'call_max13UCq6ttTp22O4rKuijTs', 'type': 'tool_call'}], usage_metadata={'input_tokens': 3432, 'output_tokens': 22, 'total_tokens': 3454, 'input_token_details': {'audio': 0, 'cache_read': 3328}, 'output_token_details': {'audio': 0, 'reasoning': 0}})]}}\n",
      "----\n",
      "{'tools': {'messages': [ToolMessage(content='[{\"title\": \"Weather in Seoul\", \"url\": \"https://www.weatherapi.com/\", \"content\": \"{\\'location\\': {\\'name\\': \\'Seoul\\', \\'region\\': \\'\\', \\'country\\': \\'South Korea\\', \\'lat\\': 37.5664, \\'lon\\': 126.9997, \\'tz_id\\': \\'Asia/Seoul\\', \\'localtime_epoch\\': 1742281242, \\'localtime\\': \\'2025-03-18 16:00\\'}, \\'current\\': {\\'last_updated_epoch\\': 1742281200, \\'last_updated\\': \\'2025-03-18 16:00\\', \\'temp_c\\': 5.2, \\'temp_f\\': 41.4, \\'is_day\\': 1, \\'condition\\': {\\'text\\': \\'Partly cloudy\\', \\'icon\\': \\'//cdn.weatherapi.com/weather/64x64/day/116.png\\', \\'code\\': 1003}, \\'wind_mph\\': 13.2, \\'wind_kph\\': 21.2, \\'wind_degree\\': 337, \\'wind_dir\\': \\'NNW\\', \\'pressure_mb\\': 1015.0, \\'pressure_in\\': 29.96, \\'precip_mm\\': 0.05, \\'precip_in\\': 0.0, \\'humidity\\': 45, \\'cloud\\': 75, \\'feelslike_c\\': 1.2, \\'feelslike_f\\': 34.1, \\'windchill_c\\': 1.2, \\'windchill_f\\': 34.2, \\'heatindex_c\\': 5.2, \\'heatindex_f\\': 41.4, \\'dewpoint_c\\': -5.3, \\'dewpoint_f\\': 22.5, \\'vis_km\\': 10.0, \\'vis_miles\\': 6.0, \\'uv\\': 1.2, \\'gust_mph\\': 15.2, \\'gust_kph\\': 24.4}}\", \"score\": 0.8744017}, {\"title\": \"Weather Seoul in March 2025: Temperature & Climate\", \"url\": \"https://en.climate-data.org/asia/south-korea/seoul/seoul-718563/t/march-3/\", \"content\": \"| 16.3 °C\\\\n(61.4) °F\\\\n| 22 °C\\\\n(71.6) °F\\\\n| 26.3 °C\\\\n(79.4) °F\\\\n| 27.7 °C\\\\n(81.9) °F\\\\n| 28.4 °C\\\\n(83.2) °F\\\\n| 24.6 °C\\\\n(76.2) °F\\\\n| 18.5 °C\\\\n(65.3) °F\\\\n| 10.4 °C\\\\n(50.6) °F\\\\n| 2.8 °C\\\\n(37.1) °F\\\\n|\\\\n| Precipitation / Rainfall mm (in) | 21\\\\n(0)\\\\n| 28\\\\n(1)\\\\n| 41\\\\n(1)\\\\n| 73\\\\n(2)\\\\n| 99\\\\n(3)\\\\n| 144\\\\n(5)\\\\n| 319\\\\n(12)\\\\n| 249\\\\n(9)\\\\n| 131\\\\n(5)\\\\n| 55\\\\n(2)\\\\n| 48\\\\n(1)\\\\n| 25\\\\n(0)\\\\n|\\\\n| Humidity(%) | 58% | 58% | 61% | 65% | 69% | 73% | 83% | 81% | 75% | 70% | 69% | 60% |\\\\n| Rainy days (d) | 3 | 3 | 4 | 5 | 6 | 7 | 12 | 11 | 6 | 4 | 5 | 4 | [...] (61.7) °F\\\\n| 21.5 °C\\\\n(70.7) °F\\\\n| 24.2 °C\\\\n(75.6) °F\\\\n| 24.8 °C\\\\n(76.6) °F\\\\n| 20.3 °C\\\\n(68.5) °F\\\\n| 13.6 °C\\\\n(56.4) °F\\\\n| 5.8 °C\\\\n(42.4) °F\\\\n| -1.5 °C\\\\n(29.3) °F\\\\n|\\\\n| Min. Temperature °C (°F) | -7.7 °C\\\\n(18.1) °F\\\\n| -5 °C\\\\n(23.1) °F\\\\n| -0.5 °C\\\\n(31) °F\\\\n| 5.6 °C\\\\n(42.1) °F\\\\n| 11.6 °C\\\\n(52.9) °F\\\\n| 17.3 °C\\\\n(63.1) °F\\\\n| 21.4 °C\\\\n(70.5) °F\\\\n| 21.7 °C\\\\n(71.1) °F\\\\n| 16.3 °C\\\\n(61.4) °F\\\\n| 9 °C\\\\n(48.2) °F\\\\n| 1.6 °C\\\\n(34.9) °F\\\\n| -5.4 °C\\\\n(22.2) °F\\\\n|\\\\n| Max. Temperature °C (°F) | 1 °C\\\\n(33.8) °F\\\\n| 4.1 °C\\\\n(39.4) °F\\\\n| 9.8 °C\\\\n(49.7) °F [...] | 13. March | 3 °C | 38 °F | 9 °C | 48 °F | -2 °C | 29 °F | 0.5 mm | 0.0 inch. |\\\\n| 14. March | 4 °C | 39 °F | 9 °C | 48 °F | -1 °C | 30 °F | 1.4 mm | 0.1 inch. |\\\\n| 15. March | 4 °C | 39 °F | 9 °C | 49 °F | -1 °C | 30 °F | 1.2 mm | 0.0 inch. |\\\\n| 16. March | 4 °C | 39 °F | 10 °C | 50 °F | -1 °C | 30 °F | 1.1 mm | 0.0 inch. |\\\\n| 17. March | 5 °C | 41 °F | 10 °C | 50 °F | 0 °C | 32 °F | 2.4 mm | 0.1 inch. |\\\\n| 18. March | 5 °C | 41 °F | 11 °C | 51 °F | 0 °C | 33 °F | 4.3 mm | 0.2 inch. |\", \"score\": 0.8305227992509363}]', name='tavily_search_results_json', id='1697e06d-7cdd-403f-81bc-4fa43b2c392f', tool_call_id='call_max13UCq6ttTp22O4rKuijTs', artifact={'query': 'current weather in Seoul', 'follow_up_questions': None, 'answer': None, 'images': [], 'results': [{'title': 'Weather in Seoul', 'url': 'https://www.weatherapi.com/', 'content': \"{'location': {'name': 'Seoul', 'region': '', 'country': 'South Korea', 'lat': 37.5664, 'lon': 126.9997, 'tz_id': 'Asia/Seoul', 'localtime_epoch': 1742281242, 'localtime': '2025-03-18 16:00'}, 'current': {'last_updated_epoch': 1742281200, 'last_updated': '2025-03-18 16:00', 'temp_c': 5.2, 'temp_f': 41.4, 'is_day': 1, 'condition': {'text': 'Partly cloudy', 'icon': '//cdn.weatherapi.com/weather/64x64/day/116.png', 'code': 1003}, 'wind_mph': 13.2, 'wind_kph': 21.2, 'wind_degree': 337, 'wind_dir': 'NNW', 'pressure_mb': 1015.0, 'pressure_in': 29.96, 'precip_mm': 0.05, 'precip_in': 0.0, 'humidity': 45, 'cloud': 75, 'feelslike_c': 1.2, 'feelslike_f': 34.1, 'windchill_c': 1.2, 'windchill_f': 34.2, 'heatindex_c': 5.2, 'heatindex_f': 41.4, 'dewpoint_c': -5.3, 'dewpoint_f': 22.5, 'vis_km': 10.0, 'vis_miles': 6.0, 'uv': 1.2, 'gust_mph': 15.2, 'gust_kph': 24.4}}\", 'score': 0.8744017, 'raw_content': None}, {'url': 'https://en.climate-data.org/asia/south-korea/seoul/seoul-718563/t/march-3/', 'title': 'Weather Seoul in March 2025: Temperature & Climate', 'content': '| 16.3 °C\\n(61.4) °F\\n| 22 °C\\n(71.6) °F\\n| 26.3 °C\\n(79.4) °F\\n| 27.7 °C\\n(81.9) °F\\n| 28.4 °C\\n(83.2) °F\\n| 24.6 °C\\n(76.2) °F\\n| 18.5 °C\\n(65.3) °F\\n| 10.4 °C\\n(50.6) °F\\n| 2.8 °C\\n(37.1) °F\\n|\\n| Precipitation / Rainfall mm (in) | 21\\n(0)\\n| 28\\n(1)\\n| 41\\n(1)\\n| 73\\n(2)\\n| 99\\n(3)\\n| 144\\n(5)\\n| 319\\n(12)\\n| 249\\n(9)\\n| 131\\n(5)\\n| 55\\n(2)\\n| 48\\n(1)\\n| 25\\n(0)\\n|\\n| Humidity(%) | 58% | 58% | 61% | 65% | 69% | 73% | 83% | 81% | 75% | 70% | 69% | 60% |\\n| Rainy days (d) | 3 | 3 | 4 | 5 | 6 | 7 | 12 | 11 | 6 | 4 | 5 | 4 | [...] (61.7) °F\\n| 21.5 °C\\n(70.7) °F\\n| 24.2 °C\\n(75.6) °F\\n| 24.8 °C\\n(76.6) °F\\n| 20.3 °C\\n(68.5) °F\\n| 13.6 °C\\n(56.4) °F\\n| 5.8 °C\\n(42.4) °F\\n| -1.5 °C\\n(29.3) °F\\n|\\n| Min. Temperature °C (°F) | -7.7 °C\\n(18.1) °F\\n| -5 °C\\n(23.1) °F\\n| -0.5 °C\\n(31) °F\\n| 5.6 °C\\n(42.1) °F\\n| 11.6 °C\\n(52.9) °F\\n| 17.3 °C\\n(63.1) °F\\n| 21.4 °C\\n(70.5) °F\\n| 21.7 °C\\n(71.1) °F\\n| 16.3 °C\\n(61.4) °F\\n| 9 °C\\n(48.2) °F\\n| 1.6 °C\\n(34.9) °F\\n| -5.4 °C\\n(22.2) °F\\n|\\n| Max. Temperature °C (°F) | 1 °C\\n(33.8) °F\\n| 4.1 °C\\n(39.4) °F\\n| 9.8 °C\\n(49.7) °F [...] | 13. March | 3 °C | 38 °F | 9 °C | 48 °F | -2 °C | 29 °F | 0.5 mm | 0.0 inch. |\\n| 14. March | 4 °C | 39 °F | 9 °C | 48 °F | -1 °C | 30 °F | 1.4 mm | 0.1 inch. |\\n| 15. March | 4 °C | 39 °F | 9 °C | 49 °F | -1 °C | 30 °F | 1.2 mm | 0.0 inch. |\\n| 16. March | 4 °C | 39 °F | 10 °C | 50 °F | -1 °C | 30 °F | 1.1 mm | 0.0 inch. |\\n| 17. March | 5 °C | 41 °F | 10 °C | 50 °F | 0 °C | 32 °F | 2.4 mm | 0.1 inch. |\\n| 18. March | 5 °C | 41 °F | 11 °C | 51 °F | 0 °C | 33 °F | 4.3 mm | 0.2 inch. |', 'score': 0.8305227992509363, 'raw_content': None}], 'response_time': 1.87})]}}\n",
      "----\n",
      "{'agent': {'messages': [AIMessage(content='The current weather in Seoul is:\\n\\n- **Temperature:** 5.2°C (41.4°F)\\n- **Condition:** Partly cloudy\\n- **Wind:** 13.2 mph (21.2 kph) from the NNW\\n- **Humidity:** 45%\\n- **Pressure:** 1015 mb\\n- **Feels like:** 1.2°C (34.1°F)\\n- **Visibility:** 10 km\\n\\nFor more detailed weather information, you can visit [Weather API](https://www.weatherapi.com/).', additional_kwargs={'refusal': None}, response_metadata={'token_usage': {'completion_tokens': 114, 'prompt_tokens': 4976, 'total_tokens': 5090, 'completion_tokens_details': {'accepted_prediction_tokens': 0, 'audio_tokens': 0, 'reasoning_tokens': 0, 'rejected_prediction_tokens': 0}, 'prompt_tokens_details': {'audio_tokens': 0, 'cached_tokens': 3328}}, 'model_name': 'gpt-4o-mini-2024-07-18', 'system_fingerprint': 'fp_06737a9306', 'finish_reason': 'stop', 'logprobs': None}, id='run-71a690bd-b622-41d3-91a1-bf0cb18cd485-0', usage_metadata={'input_tokens': 4976, 'output_tokens': 114, 'total_tokens': 5090, 'input_token_details': {'audio': 0, 'cache_read': 3328}, 'output_token_details': {'audio': 0, 'reasoning': 0}})]}}\n",
      "----\n"
     ]
    }
   ],
   "source": [
    "for chunk in agent_executor.stream(\n",
    "    {\"messages\": [HumanMessage(content=\"What is the weather in Seoul?\")]}, config=config\n",
    "):\n",
    "    print(chunk)\n",
    "    print(\"----\")"
   ]
  }
 ],
 "metadata": {
  "kernelspec": {
   "display_name": "venv",
   "language": "python",
   "name": "python3"
  },
  "language_info": {
   "codemirror_mode": {
    "name": "ipython",
    "version": 3
   },
   "file_extension": ".py",
   "mimetype": "text/x-python",
   "name": "python",
   "nbconvert_exporter": "python",
   "pygments_lexer": "ipython3",
   "version": "3.9.6"
  }
 },
 "nbformat": 4,
 "nbformat_minor": 2
}
